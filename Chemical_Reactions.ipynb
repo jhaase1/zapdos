{
 "cells": [
  {
   "cell_type": "markdown",
   "metadata": {},
   "source": [
    "# Zapdos Chemistry\n",
    "\n",
    "Zapdos chemistry is currently very simple. There are only two reaction types implemented:\n",
    "\n",
    "\\begin{equation}\n",
    "A \\rightarrow B \\\\\n",
    "2A \\rightarrow 2B\n",
    "\\end{equation}\n",
    "\n",
    "For the first equation, there are two corresponding kernels, one corresponding to the sink for A and the other corresponding to the source for B. Before introducing those kernels, let's introduce a toy differential equation set that is the basis for our finite element problem:\n",
    "\n",
    "\\begin{equation}\n",
    "-\\nabla^2A = -2k_1A^2\\\\\n",
    "-\\nabla^2B = 2k_1A^2\n",
    "\\end{equation}\n",
    "\n",
    "where the first equation is the balance/conservation equation for A, and the second is the balance equation for B. In this toy diffusion-reaction problem I have assumed that the only reaction occuring is $2A \\rightarrow 2B$. Now to create the weak form in MOOSE we move all terms to the LHS and multiply by the test function $\\psi$. In MOOSE, kernels are pieces of the governing/balance equation in weak form. So a reaction kernel should have the general form:\n",
    "\n",
    "\\begin{equation}\n",
    "-\\psi m k C^c D^d\n",
    "\\end{equation}\n",
    "\n",
    "where $m$ is an integer representing the stoichiometric coefficient for the variable that the kernel belongs to (positive for a product, negative for a reactant), $k$ is the reaction rate coefficient, and $C$ and $D$ are the reactants that determine the reaction rate with $c$ and $d$ their respective stoichiometric coefficients (if the reaction equation is elementary).\n",
    "\n",
    "Now with that background let's introduce the kernels for the reaction systems $A \\rightarrow B$ and $2A \\rightarrow 2B$. \n",
    "\n",
    "For $A \\rightarrow B$ the corresponding kernel residual for $A$ the reactant is (in it's actual C++ form):\n",
    "```\n",
    "-_test[_i][_qp] * (-1.) * _reaction_coeff[_qp] * std::exp(_u[_qp])\n",
    "```\n",
    "where `_test` corresponds to $\\psi$, -1 is the stoichiometric coefficient for $A$ in the $A \\rightarrow B$ reaction, and `std::exp(_u[_qp])` represents the concentration of $A$. I should take a quick digression and say that the variable value $u$ represents the log of the actual concentration such that `exp(_u[_qp])` represents the actual concentration. This logarithmic formulation is done to increase the stability of solution; it prevents concentrations from ever dropping below zero. The correspondoing kernel residual for $B$ the product is:\n",
    "```\n",
    "-_test[_i][_qp] * (1.) * _reaction_coeff[_qp] * std::exp(_v[_qp])\n",
    "```\n",
    "\n",
    "In MOOSE, the variable that the kernel applies to (e.g. the variable for which we're adding a term to it's weak governing equation) is always denoted by $u$. It's common practice to denote a coupled variable by $v$. So in the two above residuals `exp(_u[_qp])` and `exp(_v[_qp])` both represent the concentration of $A$. Recognizing this, the only difference in the numerical values of the residuals comes from the switch in sign of the stoichiometric coeffient $m$. For the $A$ kernel, its value is -1; for the $B$ kernel, its value is +1. \n",
    "\n",
    "With this background, hopefully it's fairly straightforward to understand the residual formulations for the reaction $2A \\rightarrow 2B$. The residual for $A$ is:\n",
    "```\n",
    "-_test[_i][_qp] * (-2.) * _reaction_coeff[_qp] * std::exp(_u[_qp]) * std::exp(_u[_qp])\n",
    "```\n",
    "The residual for $B$ is:\n",
    "```\n",
    "-_test[_i][_qp] * (2.) * _reaction_coeff[_qp] * std::exp(_v[_qp]) * std::exp(_v[_qp])\n",
    "```\n",
    "Finally, hopefully we can understand how we might write the residuals for the yet unwritten kernels for the reaction $A + B \\rightarrow C + D$. \n",
    "\n",
    "For $A$ it should look like:\n",
    "```\n",
    "-_test[_i][_qp] * (-1.) * _reaction_coeff[_qp] * std::exp(_u[_qp]) * std::exp(_v[_qp])\n",
    "```\n",
    "where `exp(_v[_qp])` represents the concentration of $B$. The $B$ kernel residual would be the exact same except `exp(_u)` would represent the concentration of $B$, and `exp(_v)` would represent the concentration of $A$.\n",
    "For $C$ **and** $D$, the kernel residual will look like:\n",
    "```\n",
    "-_test[_i][_qp] * (1.) * _reaction_coeff[_qp] * std::exp(_v[_qp]) * std::exp(_w[_qp])\n",
    "```\n",
    "where `exp(_v[_qp])` represents the concentration of $A$ and `exp(_w[_qp])` represents the concentration of $B$ (recall that `_u` is reserved for $C$ (or $D$) which actually plays no role in determining its own rate of production). \n",
    "\n",
    "Notation note: `_qp` represents the quadrature points at which the weak integral forms are converted into their discreet summation forms."
   ]
  },
  {
   "cell_type": "code",
   "execution_count": null,
   "metadata": {
    "collapsed": true
   },
   "outputs": [],
   "source": []
  }
 ],
 "metadata": {
  "kernelspec": {
   "display_name": "Python 3",
   "language": "python",
   "name": "python3"
  },
  "language_info": {
   "codemirror_mode": {
    "name": "ipython",
    "version": 3
   },
   "file_extension": ".py",
   "mimetype": "text/x-python",
   "name": "python",
   "nbconvert_exporter": "python",
   "pygments_lexer": "ipython3",
   "version": "3.6.0"
  }
 },
 "nbformat": 4,
 "nbformat_minor": 2
}
